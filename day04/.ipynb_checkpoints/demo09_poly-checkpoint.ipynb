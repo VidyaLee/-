{
 "cells": [
  {
   "cell_type": "code",
   "execution_count": null,
   "metadata": {},
   "outputs": [],
   "source": [
    "#sv_poly 线性核函数的ｓｖｍ分类器\n",
    "\n",
    "import numpy as np\n",
    "import sklearn.naive_bayes as nb\n",
    "import matplotlib.pyplot as mp\n",
    "import sklearn.svm as svm\n",
    "\n",
    "data=np.loadtxt('../ml_data/multiple2.txt',delimiter=',')\n",
    "x=data[:,:2].astype('f8')\n",
    "y=data[:,-1].astype('f8')\n",
    "print(x.shape,y.shape)\n",
    "#拆分测试集与训练集\n",
    "\n",
    "n=500\n",
    "l,r=x[:,0].min(),x[:,0].max()\n",
    "b,t=x[:,1].min(),x[:,1].max()\n",
    "grid_x,grid_y=np.meshgrid(np.linspace(l,r,n),np.linspace(b,t,n))\n",
    "# 构建高斯朴素贝叶斯模型\n",
    "# GaussianNB就是先验为高斯分布(正态分布)的朴素贝叶斯\n",
    " #(250000,2) \n",
    "mesh_x=np.column_stack((grid_x.ravel(),grid_y.ravel()))\n",
    "mesh_z=model.predict(mesh_x)\n",
    "grid_z=mesh_z.reshape(grid_x.shape)\n",
    "model=nb.GaussianNB()\n",
    "model.fit(x,y)\n",
    "\n",
    "mp.figure('Naive Bays Classfication',facecolor='lightgray')\n",
    "mp.title('Naive Bays Classfication',fontsize=18)\n",
    "mp.xlabel('x',fontsize=14)\n",
    "mp.ylabel('y',fontsize=14)\n",
    "mp.tick_params(labelsize=10)  #params参数\n",
    "mp.pcolormesh(grid_x,grid_y,grid_z,cmap='gray')\n",
    "mp.scatter(x[:,0],x[:,1],c=y,cmap='brg',s=80)\n",
    "mp.show()"
   ]
  }
 ],
 "metadata": {
  "kernelspec": {
   "display_name": "Python 3",
   "language": "python",
   "name": "python3"
  },
  "language_info": {
   "codemirror_mode": {
    "name": "ipython",
    "version": 3
   },
   "file_extension": ".py",
   "mimetype": "text/x-python",
   "name": "python",
   "nbconvert_exporter": "python",
   "pygments_lexer": "ipython3",
   "version": "3.7.6"
  }
 },
 "nbformat": 4,
 "nbformat_minor": 4
}
