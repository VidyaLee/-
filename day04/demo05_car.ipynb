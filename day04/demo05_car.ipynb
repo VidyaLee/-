{
 "cells": [
  {
   "cell_type": "code",
   "execution_count": 1,
   "metadata": {},
   "outputs": [
    {
     "name": "stdout",
     "output_type": "stream",
     "text": [
      "(1728, 7)\n",
      "(1728, 6) (1728,)\n",
      "[3 3 0 0 2 1] 2\n"
     ]
    }
   ],
   "source": [
    "#小汽车分类   随机森林分类器\n",
    "import numpy as np\n",
    "import sklearn.preprocessing as sp\n",
    "import sklearn.ensemble as se\n",
    "import sklearn.model_selection as sm\n",
    "\n",
    "#读取数据样本，对每一列进行标签编码 \n",
    "#整理样本空间，输入集与输出集\n",
    "data=[]\n",
    "with open('../ml_data/car.txt','r') as f:\n",
    "    for line in f.readlines():  #循环读取每行\n",
    "        data.append(line[:-1].split(','))   # line[:-1]其实就是去除了这行文本的最后一个字符(换行符)后剩下的部分\n",
    "data=np.array(data)   #转换为数组模式\n",
    "print(data.shape)\n",
    "\n",
    "#训练随机森林分布器模型  \n",
    "#自定义测试数据，用已训练好的模型进行测试\n",
    "train_x,train_y=[],[]\n",
    "#data这里转置了一下，所以遍历的还是列\n",
    "for index,row in enumerate(data.T):\n",
    "    encoder=sp.LabelEncoder()\n",
    "    if index<(len(data.T)-1):    #添加到输入集\n",
    "        train_x.append(encoder.fit_transform(row))\n",
    "    else:   #添加到输出集\n",
    "        train_y=encoder.fit_transform(row)\n",
    "train_x=np.array(train_x).T\n",
    "train_y=np.array(train_y)\n",
    "\n",
    "print(train_x.shape,train_y.shape)\n",
    "print(train_x[0],train_y[0])\n",
    "#训练随机森林分类器模型\n",
    "#自定义测试数据，用已训练好的模型进行测试\n"
   ]
  },
  {
   "cell_type": "code",
   "execution_count": 10,
   "metadata": {},
   "outputs": [
    {
     "name": "stdout",
     "output_type": "stream",
     "text": [
      "(1728, 7)\n",
      "0.7532013039822203\n",
      "(1728, 6) (1728,)\n",
      "[3 3 0 0 2 1] 2\n"
     ]
    }
   ],
   "source": [
    "#小汽车分类   随机森林分类器\n",
    "#form __future__ import unicode_literals\n",
    "import numpy as np\n",
    "import sklearn.preprocessing as sp\n",
    "import sklearn.ensemble as se   #集成\n",
    "import sklearn.model_selection as ms\n",
    "\n",
    "#读取数据样本，对每一列进行标签编码\n",
    "#整理样本空间，输入集与输出集\n",
    "data=[]\n",
    "with open('../ml_data/car.txt','r') as f:\n",
    "    for line in f.readlines():\n",
    "        data.append(line.split(','))\n",
    "data=np.array(data)\n",
    "print(data.shape)\n",
    "\n",
    "train_x,train_y=[],[]\n",
    "encoder=[]  #存储所有的标签编码器，以后使用\n",
    "for index,row in enumerate(data.T):\n",
    "    encoder=sp.LabelEncoder()   #encoder 可以将数据集中的文本转化成0或1的数值。\n",
    "    if index<(len(data.T)-1):    #添加到输入\n",
    "        train_x.append(encoder.fit_transform(row))\n",
    "    else:    #添加到输出\n",
    "        train_y=encoder.fit_transform(row)\n",
    "train_x=np.array(train_x).T\n",
    "train_x=np.array(train_x)\n",
    "\n",
    "#训练随机森林分类器模型         最大深度   树的个数          随机种子\n",
    "model=se.RandomForestClassifier(max_depth=6,n_estimators=200,random_state=7)\n",
    "#         交叉验证\n",
    "score=ms.cross_val_score(model,train_x,train_y,cv=5,scoring='f1_weighted')\n",
    "#model.fit(train_x,train_y)\n",
    "print(score.mean())\n",
    "#自定义测试数据，用已训练好的模型进行测试\n",
    "print(train_x.shape,train_y.shape)\n",
    "print(train_x[0],train_y[0])"
   ]
  },
  {
   "cell_type": "code",
   "execution_count": 15,
   "metadata": {},
   "outputs": [
    {
     "name": "stdout",
     "output_type": "stream",
     "text": [
      "(1728, 7)\n"
     ]
    },
    {
     "ename": "TypeError",
     "evalue": "'LabelEncoder' object is not subscriptable",
     "output_type": "error",
     "traceback": [
      "\u001b[1;31m---------------------------------------------------------------------------\u001b[0m",
      "\u001b[1;31mTypeError\u001b[0m                                 Traceback (most recent call last)",
      "\u001b[1;32m<ipython-input-15-5ebffde904f3>\u001b[0m in \u001b[0;36m<module>\u001b[1;34m\u001b[0m\n\u001b[0;32m     41\u001b[0m \u001b[0mtest_x\u001b[0m\u001b[1;33m,\u001b[0m\u001b[0mtest_y\u001b[0m\u001b[1;33m=\u001b[0m\u001b[1;33m[\u001b[0m\u001b[1;33m]\u001b[0m\u001b[1;33m,\u001b[0m\u001b[1;33m[\u001b[0m\u001b[1;33m]\u001b[0m\u001b[1;33m\u001b[0m\u001b[1;33m\u001b[0m\u001b[0m\n\u001b[0;32m     42\u001b[0m \u001b[1;32mfor\u001b[0m \u001b[0mindex\u001b[0m\u001b[1;33m,\u001b[0m\u001b[0mrow\u001b[0m \u001b[1;32min\u001b[0m \u001b[0menumerate\u001b[0m\u001b[1;33m(\u001b[0m\u001b[0mdata\u001b[0m\u001b[1;33m.\u001b[0m\u001b[0mT\u001b[0m\u001b[1;33m)\u001b[0m\u001b[1;33m:\u001b[0m\u001b[1;33m\u001b[0m\u001b[1;33m\u001b[0m\u001b[0m\n\u001b[1;32m---> 43\u001b[1;33m     \u001b[0mencoder\u001b[0m\u001b[1;33m=\u001b[0m\u001b[0mencoders\u001b[0m\u001b[1;33m[\u001b[0m\u001b[0mindex\u001b[0m\u001b[1;33m]\u001b[0m  \u001b[1;31m#获取索引\u001b[0m\u001b[1;33m\u001b[0m\u001b[1;33m\u001b[0m\u001b[0m\n\u001b[0m\u001b[0;32m     44\u001b[0m     \u001b[1;32mif\u001b[0m \u001b[0mindex\u001b[0m\u001b[1;33m<\u001b[0m\u001b[1;33m(\u001b[0m\u001b[0mlen\u001b[0m\u001b[1;33m(\u001b[0m\u001b[0mdata\u001b[0m\u001b[1;33m.\u001b[0m\u001b[0mT\u001b[0m\u001b[1;33m)\u001b[0m\u001b[1;33m-\u001b[0m\u001b[1;36m1\u001b[0m\u001b[1;33m)\u001b[0m\u001b[1;33m:\u001b[0m    \u001b[1;31m#添加到输入\u001b[0m\u001b[1;33m\u001b[0m\u001b[1;33m\u001b[0m\u001b[0m\n\u001b[0;32m     45\u001b[0m         \u001b[0mtest_x\u001b[0m\u001b[1;33m.\u001b[0m\u001b[0mappend\u001b[0m\u001b[1;33m(\u001b[0m\u001b[0mencoder\u001b[0m\u001b[1;33m.\u001b[0m\u001b[0mtransform\u001b[0m\u001b[1;33m(\u001b[0m\u001b[0mrow\u001b[0m\u001b[1;33m)\u001b[0m\u001b[1;33m)\u001b[0m\u001b[1;33m\u001b[0m\u001b[1;33m\u001b[0m\u001b[0m\n",
      "\u001b[1;31mTypeError\u001b[0m: 'LabelEncoder' object is not subscriptable"
     ]
    }
   ],
   "source": [
    "#小汽车分类   随机森林分类器\n",
    "#form __future__ import unicode_literals\n",
    "import numpy as np\n",
    "import sklearn.preprocessing as sp\n",
    "import sklearn.ensemble as se   #集成\n",
    "import sklearn.model_selection as ms\n",
    "\n",
    "#读取数据样本，对每一列进行标签编码\n",
    "#整理样本空间，输入集与输出集\n",
    "data=[]\n",
    "with open('../ml_data/car.txt','r') as f:\n",
    "    for line in f.readlines():\n",
    "        data.append(line.split(','))\n",
    "data=np.array(data)\n",
    "\n",
    "train_x,train_y=[],[]\n",
    "encoders=[]  #存储所有的标签编码器，以后使用\n",
    "for index,row in enumerate(data.T):\n",
    "    encoder=sp.LabelEncoder()   #LabelEncoder是对不连续的数字或文本编号\n",
    "    if index<(len(data.T)-1):    #添加到输入\n",
    "        train_x.append(encoder.fit_transform(row))\n",
    "    else:    #添加到输出\n",
    "        train_y=encoder.fit_transform(row)\n",
    "    encoders.append(encoder)\n",
    "train_x=np.array(train_x).T\n",
    "train_y=np.array(train_y)\n",
    "\n",
    "#训练随机森林分类器模型         最大深度   树的个数          随机种子\n",
    "model=se.RandomForestClassifier(max_depth=6,n_estimators=200,random_state=7)\n",
    "#         交叉验证\n",
    "score=ms.cross_val_score(model,train_x,train_y,cv=5,scoring='f1_weighted')\n",
    "model.fit(train_x,train_y)\n",
    "\n",
    "#自定义测试数据，用已训练好的模型进行测试\n",
    "data=[['high','med','5more','4','big','low','unacc'],\n",
    "     ['high','high','4','4','med','med','acc'],\n",
    "     ['low','low','2','4','small','high','good'],\n",
    "     ['low','med','3','4','med','high','vgood']]\n",
    "data=np.array(data)\n",
    "test_x,test_y=[],[]\n",
    "for index,row in enumerate(data.T):\n",
    "    encoder=encoders[index]  #获取索引\n",
    "    if index<(len(data.T)-1):    #添加到输入\n",
    "        test_x.append(encoder.transform(row))\n",
    "    else:    #添加到输出集\n",
    "        test_y=encoder.transform(row)\n",
    "   # encoders.append(encoder)\n",
    "test_x=np.array(test_x).T\n",
    "test_y=np.array(test_y)\n",
    "#预测\n",
    "pred_test_y=model.predict(test_x)\n",
    "print(encoders[-1].inverse_transform(test_y))\n",
    "print(test_y)\n",
    "print(pred_test_y)\n"
   ]
  },
  {
   "cell_type": "code",
   "execution_count": 16,
   "metadata": {},
   "outputs": [
    {
     "ename": "TypeError",
     "evalue": "'LabelEncoder' object is not subscriptable",
     "output_type": "error",
     "traceback": [
      "\u001b[1;31m---------------------------------------------------------------------------\u001b[0m",
      "\u001b[1;31mTypeError\u001b[0m                                 Traceback (most recent call last)",
      "\u001b[1;32m<ipython-input-16-f700fd155c91>\u001b[0m in \u001b[0;36m<module>\u001b[1;34m\u001b[0m\n\u001b[0;32m     49\u001b[0m \u001b[1;31m#预测\u001b[0m\u001b[1;33m\u001b[0m\u001b[1;33m\u001b[0m\u001b[1;33m\u001b[0m\u001b[0m\n\u001b[0;32m     50\u001b[0m \u001b[0mpred_test_y\u001b[0m\u001b[1;33m=\u001b[0m\u001b[0mmodel\u001b[0m\u001b[1;33m.\u001b[0m\u001b[0mpredict\u001b[0m\u001b[1;33m(\u001b[0m\u001b[0mtest_x\u001b[0m\u001b[1;33m)\u001b[0m\u001b[1;33m\u001b[0m\u001b[1;33m\u001b[0m\u001b[0m\n\u001b[1;32m---> 51\u001b[1;33m \u001b[0mprint\u001b[0m\u001b[1;33m(\u001b[0m\u001b[0mencoders\u001b[0m\u001b[1;33m[\u001b[0m\u001b[1;33m-\u001b[0m\u001b[1;36m1\u001b[0m\u001b[1;33m]\u001b[0m\u001b[1;33m.\u001b[0m\u001b[0minverse_transform\u001b[0m\u001b[1;33m(\u001b[0m\u001b[0mtest_y\u001b[0m\u001b[1;33m)\u001b[0m\u001b[1;33m)\u001b[0m\u001b[1;33m\u001b[0m\u001b[1;33m\u001b[0m\u001b[0m\n\u001b[0m\u001b[0;32m     52\u001b[0m \u001b[0mprint\u001b[0m\u001b[1;33m(\u001b[0m\u001b[0mtest_y\u001b[0m\u001b[1;33m)\u001b[0m\u001b[1;33m\u001b[0m\u001b[1;33m\u001b[0m\u001b[0m\n\u001b[0;32m     53\u001b[0m \u001b[0mprint\u001b[0m\u001b[1;33m(\u001b[0m\u001b[0mpred_test_y\u001b[0m\u001b[1;33m)\u001b[0m\u001b[1;33m\u001b[0m\u001b[1;33m\u001b[0m\u001b[0m\n",
      "\u001b[1;31mTypeError\u001b[0m: 'LabelEncoder' object is not subscriptable"
     ]
    }
   ],
   "source": [
    "#小汽车分类   随机森林分类器\n",
    "#form __future__ import unicode_literals\n",
    "import numpy as np\n",
    "import sklearn.preprocessing as sp\n",
    "import sklearn.ensemble as se   #集成\n",
    "import sklearn.model_selection as ms\n",
    "\n",
    "#读取数据样本，对每一列进行标签编码\n",
    "#整理样本空间，输入集与输出集\n",
    "data=[]\n",
    "with open('../ml_data/car.txt','r') as f:\n",
    "    for line in f.readlines():\n",
    "        data.append(line.split(','))\n",
    "data=np.array(data)\n",
    "\n",
    "train_x,train_y=[],[]\n",
    "encoder=[]  #存储所有的标签编码器，以后使用\n",
    "for index ,row in enumerate(data.T):\n",
    "    encoder=sp.LabelEncoder()   #encoder 可以将数据集中的文本转化成0或1的数值。\n",
    "    if index<(len(data.T)-1):    #添加到输入\n",
    "        train_x.append(encoder.fit_transform(row))\n",
    "    else:    #添加到输出\n",
    "        train_y=encoder.fit_transform(row)\n",
    "train_x=np.array(train_x).T\n",
    "train_x=np.array(train_x)\n",
    "\n",
    "#训练随机森林分类器模型         最大深度   树的个数          随机种子\n",
    "model=se.RandomForestClassifier(max_depth=6,n_estimators=200,random_state=7)\n",
    "#         交叉验证\n",
    "score=ms.cross_val_score(model,train_x,train_y,cv=5,scoring='f1_weighted')\n",
    "model.fit(train_x,train_y)\n",
    "\n",
    "#自定义测试数据，用已训练好的模型进行测试\n",
    "data=[['high','med','5more','4','big','low','unacc'],\n",
    "     ['high','high','4','4','med','med','acc'],\n",
    "     ['low','low','2','4','small','high','good'],\n",
    "     ['low','med','3','4','med','high','vgood']]\n",
    "data=np.array(data)\n",
    "test_x,test_y=[],[]\n",
    "encoder=[]  #存储所有的标签编码器，以后使用\n",
    "for index ,row in enumerate(data.T):\n",
    "    encoder=sp.LabelEncoder()   #encoder 可以将数据集中的文本转化成0或1的数值。\n",
    "    if index<(len(data.T)-1):    #添加到输入\n",
    "        test_x.append(encoder.fit_transform(row))\n",
    "    else:    #添加到输出\n",
    "        test_y=encoder.fit_transform(row)\n",
    "test_x=np.array(test_x).T\n",
    "test_y=np.array(test_y)\n",
    "#预测\n",
    "pred_test_y=model.predict(test_x)\n",
    "print(encoders[-1].inverse_transform(test_y))\n",
    "print(test_y)\n",
    "print(pred_test_y)\n"
   ]
  },
  {
   "cell_type": "code",
   "execution_count": null,
   "metadata": {},
   "outputs": [],
   "source": []
  }
 ],
 "metadata": {
  "kernelspec": {
   "display_name": "Python 3",
   "language": "python",
   "name": "python3"
  },
  "language_info": {
   "codemirror_mode": {
    "name": "ipython",
    "version": 3
   },
   "file_extension": ".py",
   "mimetype": "text/x-python",
   "name": "python",
   "nbconvert_exporter": "python",
   "pygments_lexer": "ipython3",
   "version": "3.7.6"
  }
 },
 "nbformat": 4,
 "nbformat_minor": 4
}
