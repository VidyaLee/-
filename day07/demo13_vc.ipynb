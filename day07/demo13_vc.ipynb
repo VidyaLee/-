{
 "cells": [
  {
   "cell_type": "code",
   "execution_count": null,
   "metadata": {},
   "outputs": [],
   "source": [
    "#视频捕捉设备\n",
    "import cv2 as cv\n",
    "\n",
    "import cv2\n",
    "cv2.waitKey(0)\n",
    "video_capture=cv.VideoCapture(0)\n",
    "#读取一帧\n",
    "while True:\n",
    "    frame=video_capture.read()[1]\n",
    "    cv.imshow('VideoCapture',frame)\n",
    "    if cv.WaitKey(33)==27:\n",
    "        break\n",
    "#释放视频捕捉设备\n",
    "video_capture.release()\n",
    "#销毁cv的所有窗口\n",
    "cv.destroyAllWindows()\n"
   ]
  },
  {
   "cell_type": "code",
   "execution_count": null,
   "metadata": {},
   "outputs": [],
   "source": []
  }
 ],
 "metadata": {
  "kernelspec": {
   "display_name": "Python 3",
   "language": "python",
   "name": "python3"
  },
  "language_info": {
   "codemirror_mode": {
    "name": "ipython",
    "version": 3
   },
   "file_extension": ".py",
   "mimetype": "text/x-python",
   "name": "python",
   "nbconvert_exporter": "python",
   "pygments_lexer": "ipython3",
   "version": "3.7.6"
  }
 },
 "nbformat": 4,
 "nbformat_minor": 4
}
