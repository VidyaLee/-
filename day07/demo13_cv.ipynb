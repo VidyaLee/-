{
 "cells": [
  {
   "cell_type": "code",
   "execution_count": 16,
   "metadata": {},
   "outputs": [
    {
     "ename": "error",
     "evalue": "OpenCV(3.4.2) C:\\projects\\opencv-python\\opencv\\modules\\core\\src\\array.cpp:2492: error: (-206:Bad flag (parameter or structure field)) Unrecognized or unsupported array type in function 'cvGetMat'\n",
     "output_type": "error",
     "traceback": [
      "\u001b[1;31m---------------------------------------------------------------------------\u001b[0m",
      "\u001b[1;31merror\u001b[0m                                     Traceback (most recent call last)",
      "\u001b[1;32m<ipython-input-16-08896e85e500>\u001b[0m in \u001b[0;36m<module>\u001b[1;34m\u001b[0m\n\u001b[0;32m     12\u001b[0m \u001b[1;31m#从一个图像中识别出所有的人脸区域\u001b[0m\u001b[1;33m\u001b[0m\u001b[1;33m\u001b[0m\u001b[1;33m\u001b[0m\u001b[0m\n\u001b[0;32m     13\u001b[0m \u001b[1;31m#1.3为最小的人脸尺寸    5：最多找5张脸\u001b[0m\u001b[1;33m\u001b[0m\u001b[1;33m\u001b[0m\u001b[1;33m\u001b[0m\u001b[0m\n\u001b[1;32m---> 14\u001b[1;33m     \u001b[0mfaces\u001b[0m\u001b[1;33m=\u001b[0m\u001b[0mfd\u001b[0m\u001b[1;33m.\u001b[0m\u001b[0mdetectMultiScale\u001b[0m\u001b[1;33m(\u001b[0m\u001b[0mframe\u001b[0m\u001b[1;33m,\u001b[0m\u001b[1;36m1.3\u001b[0m\u001b[1;33m,\u001b[0m\u001b[1;36m5\u001b[0m\u001b[1;33m)\u001b[0m\u001b[1;33m\u001b[0m\u001b[1;33m\u001b[0m\u001b[0m\n\u001b[0m\u001b[0;32m     15\u001b[0m \u001b[1;31m#返回：\u001b[0m\u001b[1;33m\u001b[0m\u001b[1;33m\u001b[0m\u001b[1;33m\u001b[0m\u001b[0m\n\u001b[0;32m     16\u001b[0m \u001b[1;31m#face:抓取人脸（矩形区域）列表[(l,t,w,h)]\u001b[0m\u001b[1;33m\u001b[0m\u001b[1;33m\u001b[0m\u001b[1;33m\u001b[0m\u001b[0m\n",
      "\u001b[1;31merror\u001b[0m: OpenCV(3.4.2) C:\\projects\\opencv-python\\opencv\\modules\\core\\src\\array.cpp:2492: error: (-206:Bad flag (parameter or structure field)) Unrecognized or unsupported array type in function 'cvGetMat'\n"
     ]
    }
   ],
   "source": [
    "#人脸定位\n",
    "#哈尔级联人脸定位\n",
    "import cv2 as cv\n",
    "#通过特征描述文件构建哈尔级联人脸识别器\n",
    "fd=cv.CascadeClfd=cv.CascadeClassifier('../ml_data/haar/face.xml')\n",
    "ed=cv.CascadeClfd=cv.CascadeClassifier('../ml_data/haar/eye.xml')\n",
    "nd=cv.CascadeClfd=cv.CascadeClassifier('../ml_data/haar/nose.xml')\n",
    "vc=cv.VideoCapture(0)\n",
    "\n",
    "while True:\n",
    "    frame=vc.read()[1]\n",
    "#从一个图像中识别出所有的人脸区域\n",
    "#1.3为最小的人脸尺寸    5：最多找5张脸\n",
    "    faces=fd.detectMultiScale(frame,1.3,5)\n",
    "#返回：\n",
    "#face:抓取人脸（矩形区域）列表[(l,t,w,h)]\n",
    "    for l,t,w,h in faces:\n",
    "        a,b=int(w/2),int(h/2)\n",
    "        #绘制椭圆\n",
    "        cv.ellipse(\n",
    "        frame,#图像\n",
    "        (1+a,t+b),#椭圆心\n",
    "        (a,b),#半径\n",
    "        0,#椭圆旋转角度\n",
    "        0,360,   #起始角，终止角\n",
    "        (255,0,255),#颜色\n",
    "        2 #线宽\n",
    "        )\n",
    "        face=frame[t:t+h,l:l+w]\n",
    "        eyes=ed.detectMultiScale(face,1.3,5)\n",
    "        for l,t,w,h in eyes:\n",
    "            a,b=int(w/2),int(h/2)   \n",
    "            #定位，旋转角度，颜色\n",
    "            cv.ellipse(face,(1+a,t+b),(a,b),0,0,360,(0,255,0),2)\n",
    "        noses=nd.detectMultiScale(face,1.3,5)\n",
    "        for l,t,w,h in noses:\n",
    "            a,b=int(w/2),int(h/2)\n",
    "            cv.ellipse(face,(1+a,t+b),(a,b),0,0,360,(0,255,255),2)\n",
    "    cv.imshow('VideoCapture',frame)\n",
    "    if cv.waitkey(33)==27:\n",
    "        break\n",
    "vc.release()\n",
    "cv.dertoryAllWindows()"
   ]
  },
  {
   "cell_type": "code",
   "execution_count": null,
   "metadata": {},
   "outputs": [],
   "source": []
  }
 ],
 "metadata": {
  "kernelspec": {
   "display_name": "Python 3",
   "language": "python",
   "name": "python3"
  },
  "language_info": {
   "codemirror_mode": {
    "name": "ipython",
    "version": 3
   },
   "file_extension": ".py",
   "mimetype": "text/x-python",
   "name": "python",
   "nbconvert_exporter": "python",
   "pygments_lexer": "ipython3",
   "version": "3.7.6"
  }
 },
 "nbformat": 4,
 "nbformat_minor": 4
}
