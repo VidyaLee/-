{
 "cells": [
  {
   "cell_type": "code",
   "execution_count": null,
   "metadata": {},
   "outputs": [],
   "source": [
    "import numpy as np\n",
    "import scipy.io.wavfile as wf\n",
    "with open('../ml_data/12.json','r')as f:\n",
    "    freqs=json.load(f.read())\n",
    "tones=[\n",
    "    ('G5',1.5),\n",
    "    ('A5',0.5),\n",
    "    ('G5',1.5),\n",
    "    ('D5',0.5),\n",
    "    ('E5',0.25),\n",
    "    ('D5',0.5),\n",
    "    ('C5',0.5),\n",
    "    ('A4',0.5),\n",
    "    ('C5',0.75)\n",
    "]"
   ]
  }
 ],
 "metadata": {
  "kernelspec": {
   "display_name": "Python 3",
   "language": "python",
   "name": "python3"
  },
  "language_info": {
   "codemirror_mode": {
    "name": "ipython",
    "version": 3
   },
   "file_extension": ".py",
   "mimetype": "text/x-python",
   "name": "python",
   "nbconvert_exporter": "python",
   "pygments_lexer": "ipython3",
   "version": "3.7.6"
  }
 },
 "nbformat": 4,
 "nbformat_minor": 4
}
