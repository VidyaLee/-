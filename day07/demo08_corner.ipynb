{
 "cells": [
  {
   "cell_type": "code",
   "execution_count": 3,
   "metadata": {},
   "outputs": [
    {
     "name": "stdout",
     "output_type": "stream",
     "text": [
      "(420, 546)\n"
     ]
    }
   ],
   "source": [
    "import cv2 as cv\n",
    "\n",
    "original=cv.imread('../ml_data/box.png')\n",
    "cv.imshow('Original',original)\n",
    "gray=cv.cvtColor(original,cv.COLOR_BGR2GRAY)\n",
    "cv.imshow('Gray',gray)\n",
    "corners=cv.cornerHarris(gray,7,5,0.04)\n",
    "print(gray.shaecorners.shape)\n",
    "mixture=original.copy()\n",
    "mixture[corners>corners.max()*0.01]=[0,0,255]\n",
    "cv.imshow('Corner',mixture)\n"
   ]
  },
  {
   "cell_type": "code",
   "execution_count": null,
   "metadata": {},
   "outputs": [],
   "source": []
  }
 ],
 "metadata": {
  "kernelspec": {
   "display_name": "Python 3",
   "language": "python",
   "name": "python3"
  },
  "language_info": {
   "codemirror_mode": {
    "name": "ipython",
    "version": 3
   },
   "file_extension": ".py",
   "mimetype": "text/x-python",
   "name": "python",
   "nbconvert_exporter": "python",
   "pygments_lexer": "ipython3",
   "version": "3.7.6"
  }
 },
 "nbformat": 4,
 "nbformat_minor": 4
}
