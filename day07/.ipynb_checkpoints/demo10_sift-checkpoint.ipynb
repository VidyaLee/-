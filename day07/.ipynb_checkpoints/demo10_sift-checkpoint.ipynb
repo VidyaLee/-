{
 "cells": [
  {
   "cell_type": "code",
   "execution_count": 8,
   "metadata": {},
   "outputs": [],
   "source": [
    "\n",
    "import cv2 as cv\n",
    "original=cv.imread('../ml_data/table.jpg')\n",
    "gray=cv.cvtColor(original,cv.COLOR_BGR2GRAY)\n",
    "sift=cv.xfeatures2d.SIFT_create()  #提取特征 \n",
    "keypoints=sift.detect(gray)\n",
    "mixture=original.copy()\n",
    "cv.drawKeypoints(\n",
    "    original,keypoints,mixture,\n",
    "    flags=cv.DRAW_MATCHES_FLAGS_DRAW_RICH_KEYPOINTS)\n",
    "cv.imshow('Mixture',mixture)\n"
   ]
  },
  {
   "cell_type": "code",
   "execution_count": null,
   "metadata": {},
   "outputs": [],
   "source": []
  }
 ],
 "metadata": {
  "kernelspec": {
   "display_name": "Python 3",
   "language": "python",
   "name": "python3"
  },
  "language_info": {
   "codemirror_mode": {
    "name": "ipython",
    "version": 3
   },
   "file_extension": ".py",
   "mimetype": "text/x-python",
   "name": "python",
   "nbconvert_exporter": "python",
   "pygments_lexer": "ipython3",
   "version": "3.7.6"
  }
 },
 "nbformat": 4,
 "nbformat_minor": 4
}
