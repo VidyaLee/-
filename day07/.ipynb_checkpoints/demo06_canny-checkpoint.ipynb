{
 "cells": [
  {
   "cell_type": "code",
   "execution_count": 12,
   "metadata": {},
   "outputs": [
    {
     "data": {
      "text/plain": [
       "-1"
      ]
     },
     "execution_count": 12,
     "metadata": {},
     "output_type": "execute_result"
    }
   ],
   "source": [
    "#边缘识别   常使用亮度梯度算法来分辨边缘\n",
    "import cv2 as cv\n",
    "original=cv.imread('../ml_data/chair.jpg',cv.IMREAD_GRAYSCALE)#灰度变化\n",
    "#print(original.shape)\n",
    "cv.imshow('original',original)\n",
    "#索贝尔边缘识别\n",
    "sobel=cv.Sobel(original,cv.CV_64F,1,1,ksize=5)\n",
    "cv.imshow('sobel',sobel)\n",
    "cv.waitKey()"
   ]
  },
  {
   "cell_type": "code",
   "execution_count": 13,
   "metadata": {},
   "outputs": [],
   "source": [
    "#拉普拉斯边缘识别\n",
    "laplacian=cv.Laplacian(original,cv.CV_64F)\n",
    "cv.imshow('laplacian',laplacian)\n"
   ]
  },
  {
   "cell_type": "code",
   "execution_count": 15,
   "metadata": {},
   "outputs": [],
   "source": [
    "#Canny边缘识别\n",
    "canny=cv.Canny(original,50,240)\n",
    "cv.imshow('canny',canny)\n"
   ]
  },
  {
   "cell_type": "code",
   "execution_count": null,
   "metadata": {},
   "outputs": [],
   "source": []
  }
 ],
 "metadata": {
  "kernelspec": {
   "display_name": "Python 3",
   "language": "python",
   "name": "python3"
  },
  "language_info": {
   "codemirror_mode": {
    "name": "ipython",
    "version": 3
   },
   "file_extension": ".py",
   "mimetype": "text/x-python",
   "name": "python",
   "nbconvert_exporter": "python",
   "pygments_lexer": "ipython3",
   "version": "3.7.6"
  }
 },
 "nbformat": 4,
 "nbformat_minor": 4
}
