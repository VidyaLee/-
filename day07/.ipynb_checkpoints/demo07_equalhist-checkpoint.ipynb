{
 "cells": [
  {
   "cell_type": "code",
   "execution_count": 1,
   "metadata": {},
   "outputs": [],
   "source": [
    "#直方图均衡化，提高图片亮度\n",
    "\n",
    "import cv2 as cv\n",
    "original=cv.imread('../ml_data/sunrise.jpg')\n",
    "cv.imshow('sunrise',original)\n"
   ]
  },
  {
   "cell_type": "code",
   "execution_count": 2,
   "metadata": {},
   "outputs": [],
   "source": [
    "#灰度图\n",
    "gray=cv.cvtColor(original,cv.COLOR_BGR2GRAY)#彩色图转灰度图\n",
    "cv.imshow('gray',gray)\n",
    "#均衡化直方图\n",
    "gray_=cv.equalizeHist(gray)\n",
    "cv.imshow('gray_',gray_)"
   ]
  },
  {
   "cell_type": "code",
   "execution_count": 3,
   "metadata": {},
   "outputs": [],
   "source": [
    "#YUV 是一种颜色编码方法，亮度，色度，饱和度\n",
    "yuv=cv.cvtColor(original,cv.COLOR_BGR2YUV)\n",
    "yuv[:,:,0]=cv.equalizeHist(yuv[:,:,0])\n",
    "equalized_color=cv.cvtColor(yuv,cv.COLOR_YUV2BGR)\n",
    "cv.imshow('Equalized Color',equalized_color)"
   ]
  },
  {
   "cell_type": "code",
   "execution_count": null,
   "metadata": {},
   "outputs": [],
   "source": []
  }
 ],
 "metadata": {
  "kernelspec": {
   "display_name": "Python 3",
   "language": "python",
   "name": "python3"
  },
  "language_info": {
   "codemirror_mode": {
    "name": "ipython",
    "version": 3
   },
   "file_extension": ".py",
   "mimetype": "text/x-python",
   "name": "python",
   "nbconvert_exporter": "python",
   "pygments_lexer": "ipython3",
   "version": "3.7.6"
  }
 },
 "nbformat": 4,
 "nbformat_minor": 4
}
