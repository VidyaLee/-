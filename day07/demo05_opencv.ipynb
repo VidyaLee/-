{
 "cells": [
  {
   "cell_type": "code",
   "execution_count": 2,
   "metadata": {},
   "outputs": [],
   "source": [
    "#图像识别\n",
    "#图像的本质是一个三维数组。x y轴的坐标，还有每个坐标上的颜色\n",
    "import cv2 as cv\n",
    "import numpy as np\n",
    "\n",
    "original=cv.imread('../ml_data/forest.jpg')\n",
    "cv.imshow('original',original)  #标题\n",
    "#cv.waitkey() #任意键继续\n",
    "#切出图像的三通数据"
   ]
  },
  {
   "cell_type": "code",
   "execution_count": 11,
   "metadata": {},
   "outputs": [],
   "source": [
    "blue=np.zeros_like(original)\n",
    "blue[:,:,0]=original[:,:,0]\n",
    "cv.imshow('blue',blue)"
   ]
  },
  {
   "cell_type": "code",
   "execution_count": 12,
   "metadata": {},
   "outputs": [],
   "source": [
    "green=np.zeros_like(original)\n",
    "green[:,:,0]=original[:,:,0]\n",
    "cv.imshow('green',green)\n"
   ]
  },
  {
   "cell_type": "code",
   "execution_count": 13,
   "metadata": {},
   "outputs": [],
   "source": [
    "red=np.zeros_like(original)\n",
    "red[:,:,2]=original[:,:,2]\n",
    "cv.imshow('red',red)"
   ]
  },
  {
   "cell_type": "code",
   "execution_count": 15,
   "metadata": {},
   "outputs": [
    {
     "data": {
      "text/plain": [
       "array([[[ 17, 133, 120],\n",
       "        [  8, 108,  96],\n",
       "        [ 12, 128, 123],\n",
       "        ...,\n",
       "        [ 94, 156, 140],\n",
       "        [ 80, 149, 136],\n",
       "        [ 46, 100,  93]],\n",
       "\n",
       "       [[ 30, 137, 128],\n",
       "        [ 29, 137, 124],\n",
       "        [ 20, 118, 112],\n",
       "        ...,\n",
       "        [ 37, 122, 102],\n",
       "        [ 62, 154, 141],\n",
       "        [ 44, 141, 131]],\n",
       "\n",
       "       [[  0, 101,  92],\n",
       "        [ 13, 118, 109],\n",
       "        [  0,  83,  79],\n",
       "        ...,\n",
       "        [ 32, 127, 113],\n",
       "        [ 46, 139, 138],\n",
       "        [ 52, 154, 153]],\n",
       "\n",
       "       ...,\n",
       "\n",
       "       [[ 14,  67,  80],\n",
       "        [  5,  66,  80],\n",
       "        [ 32,  78,  95],\n",
       "        ...,\n",
       "        [  7,  67,  66],\n",
       "        [  8,  77,  56],\n",
       "        [  5,  88,  63]],\n",
       "\n",
       "       [[  3,  46,  61],\n",
       "        [  0,  38,  56],\n",
       "        [  5,  44,  59],\n",
       "        ...,\n",
       "        [  9,  85,  74],\n",
       "        [  6,  88,  59],\n",
       "        [  0,  92,  61]],\n",
       "\n",
       "       [[ 17,  52,  66],\n",
       "        [ 11,  31,  48],\n",
       "        [  2,  28,  44],\n",
       "        ...,\n",
       "        [ 11,  91,  74],\n",
       "        [  0,  91,  58],\n",
       "        [  1,  93,  58]]], dtype=uint8)"
      ]
     },
     "execution_count": 15,
     "metadata": {},
     "output_type": "execute_result"
    }
   ],
   "source": [
    "#图像裁剪\n",
    "h,w=original.shape[:2]  #长 宽\n",
    "t,b=int(h/4),int(h*3/4)     #高 底\n",
    "l,r=int(w/4),int(w*3/4)\n",
    "cropped=original[t:b,l:r]\n",
    "cv.imshow('cropped',cropped)\n",
    "original[t:b,l:r]\n"
   ]
  },
  {
   "cell_type": "code",
   "execution_count": 18,
   "metadata": {},
   "outputs": [],
   "source": [
    "#图像缩放   常用亮度梯度算法667656\n",
    "resize=cv.resize(original,(int(w/3),int(h/4)))\n",
    "cv.imshow('resize',resize)\n",
    "\n",
    "resize=cv.resize(resize,None,fx=4,fy=4)\n",
    "cv.imshow('resize2',resize)"
   ]
  },
  {
   "cell_type": "code",
   "execution_count": null,
   "metadata": {},
   "outputs": [],
   "source": []
  }
 ],
 "metadata": {
  "kernelspec": {
   "display_name": "Python 3",
   "language": "python",
   "name": "python3"
  },
  "language_info": {
   "codemirror_mode": {
    "name": "ipython",
    "version": 3
   },
   "file_extension": ".py",
   "mimetype": "text/x-python",
   "name": "python",
   "nbconvert_exporter": "python",
   "pygments_lexer": "ipython3",
   "version": "3.7.6"
  }
 },
 "nbformat": 4,
 "nbformat_minor": 4
}
