{
 "cells": [
  {
   "cell_type": "code",
   "execution_count": 3,
   "metadata": {},
   "outputs": [
    {
     "ename": "SyntaxError",
     "evalue": "keyword argument repeated (<ipython-input-3-5378cac33e34>, line 38)",
     "output_type": "error",
     "traceback": [
      "\u001b[1;36m  File \u001b[1;32m\"<ipython-input-3-5378cac33e34>\"\u001b[1;36m, line \u001b[1;32m38\u001b[0m\n\u001b[1;33m    mp.scatter(x[offset_mask][:,0],x[core_mask][:,1],c=labels[offset_mask],c='black',marker='D',s=80,alpha=0.4)\u001b[0m\n\u001b[1;37m                                                                          ^\u001b[0m\n\u001b[1;31mSyntaxError\u001b[0m\u001b[1;31m:\u001b[0m keyword argument repeated\n"
     ]
    }
   ],
   "source": [
    "#聚类算法\n",
    "import numpy as np\n",
    "import sklearn.cluster as sc\n",
    "import matplotlib.pyplot as mp\n",
    "\n",
    "x=np.loadtxt('../ml_data/.txt',delimiter=',')\n",
    "#优选半径参数\n",
    "eps,score,models=np.arange(0.3,1.0,8),[],[]\n",
    "for r in eps:\n",
    "    model=sc.DBSCAN(eps=r,min_samples=5)\n",
    "    model.fit(x)\n",
    "    labels=model.labels_\n",
    "    sm.silhouette_score(\n",
    "        x,labels,sample_size=len(x),\n",
    "        metric='euclidean')\n",
    "    score.append(model)\n",
    "    \n",
    "#获取最优的分index\n",
    "best_index=score.argmax()\n",
    "best_model=models[best_index]\n",
    "best_score=scores[best_index]\n",
    "best_r=eps[best_index]\n",
    "\n",
    "\n",
    "mp.figure('DBSCAN Cluster',facecolor='lightgray')\n",
    "mp.title('DBSCAN Cluster',fontsize=14)\n",
    "mp.xlabel('x',fontsize=14)\n",
    "mp.label('y',fontsize=14)  \n",
    "labels=best_model.labels\n",
    "#获取核心样本、孤立样本、外周样本\n",
    "core_mask=np.zeros(len(x),dtype='bool')\n",
    "core_model.core_smaple_indices_=True\n",
    "#绘制核心样本\n",
    "\n",
    "mp.scatter(x[core_mask][:,0],x[core_mask][:,1],c=labels[core_mask],cmap='jet',s=70)\n",
    "offset_mask=labels==-1\n",
    "#绘制孤立样本\n",
    "mp.scatter(x[offset_mask][:,0],x[core_mask][:,1],c=labels[offset_mask],c='black',marker='D',s=80,alpha=0.4)\n",
    "#画外周样本\n",
    "p_mask=~(core_mask|offset_mask)\n",
    "mp.scatter(x[p_mask][:,0],x[p_mask][:,1],c=labels[p_mask],c='jet',marker='s',s=70,alpha=0.8)\n",
    "mp.show()\n"
   ]
  },
  {
   "cell_type": "markdown",
   "metadata": {},
   "source": [
    "KMeans 均值漂移、DBSCAN 评估指标：轮廓系数\n"
   ]
  }
 ],
 "metadata": {
  "kernelspec": {
   "display_name": "Python 3",
   "language": "python",
   "name": "python3"
  },
  "language_info": {
   "codemirror_mode": {
    "name": "ipython",
    "version": 3
   },
   "file_extension": ".py",
   "mimetype": "text/x-python",
   "name": "python",
   "nbconvert_exporter": "python",
   "pygments_lexer": "ipython3",
   "version": "3.7.6"
  }
 },
 "nbformat": 4,
 "nbformat_minor": 4
}
