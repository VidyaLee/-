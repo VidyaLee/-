{
 "cells": [
  {
   "cell_type": "code",
   "execution_count": 2,
   "metadata": {},
   "outputs": [
    {
     "name": "stdout",
     "output_type": "stream",
     "text": [
      "(2968,) (2968,) (5,)\n",
      "From: gene@theporch.raider.net (Gene Wright)\n",
      "Subject: NASA Special Publications for Voyager Mission?\n",
      "Organization: The MacInteresteds of Nashville, Tn.\n",
      "Lines: 12\n",
      "\n",
      "I have two books, both NASA Special Publications, on the Voyager \n",
      "Missions. One is titled \"Voyages to Jupiter\" the other \"Voyage to Saturn\" \n",
      "These were excellent books put together after the encounters with each \n",
      "planet. \n",
      "\n",
      "The question is: Did NASA ever put together a similar book for either the \n",
      "Uranus encounter or Neptune? If so, what SP number is it and where can it \n",
      "be obtained? If not, why didn't they?\n",
      "\n",
      "--\n",
      "  gene@theporch.raider.net (Gene Wright)\n",
      "theporch.raider.net  615/297-7951 The MacInteresteds of Nashville\n",
      " 4 ['misc.forsale' 'rec.motorcycles' 'rec.sport.baseball' 'sci.crypt'\n",
      " 'sci.space']\n"
     ]
    }
   ],
   "source": [
    "#主题识别\n",
    "import sklearn.datasets as sd\n",
    "import sklearn.feature_extraction.text as ft\n",
    "import sklearn.naive_bayes as nb\n",
    "import numpy as np\n",
    "\n",
    "train=sd.load_files('../ml_data/20news',encoding='latin1',shuffle=True,random_state=7)\n",
    "train_data=np.array(train.data)\n",
    "train_y=np.array(train.target)\n",
    "categories=np.array(train.target_names)\n",
    "print(train_data.shape,train_y.shape,categories.shape)\n",
    "print(train_data[0],train_y[0],categories)\n",
    "#构建tfidf模型\n",
    "cv=ft.CountVectorizer()\n",
    "bow()=cv.fit_transform(train_data)\n",
    "tt=ft.TfidfTransformer()\n",
    "tfidf=tt.fit_transform(bow)\n",
    "#训练基于多项分布的朴素贝叶斯\n",
    "model=nb.MultinomialNB()\n",
    "model.fit(tfidf,train_y)\n",
    "#整理测试数据\n",
    "test_data=[\n",
    "    'The curveballs of right handed pitchers tend to curve.'\n",
    "    'Caesar cipher is an ancient form of encryption',\n",
    "    'This two_wheeler is really good on slippery roads']\n",
    "test_bow=cv.transform(test_data)\n",
    "test_tfidf=tt.transform(test_bow)\n",
    "pred_y=model.predict(test_tfidf)\n",
    "print(categories[pred_y])"
   ]
  },
  {
   "cell_type": "code",
   "execution_count": null,
   "metadata": {},
   "outputs": [],
   "source": []
  }
 ],
 "metadata": {
  "kernelspec": {
   "display_name": "Python 3",
   "language": "python",
   "name": "python3"
  },
  "language_info": {
   "codemirror_mode": {
    "name": "ipython",
    "version": 3
   },
   "file_extension": ".py",
   "mimetype": "text/x-python",
   "name": "python",
   "nbconvert_exporter": "python",
   "pygments_lexer": "ipython3",
   "version": "3.7.6"
  }
 },
 "nbformat": 4,
 "nbformat_minor": 4
}
