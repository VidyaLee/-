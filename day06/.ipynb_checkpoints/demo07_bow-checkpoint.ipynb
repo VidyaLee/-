{
 "cells": [
  {
   "cell_type": "code",
   "execution_count": 24,
   "metadata": {},
   "outputs": [
    {
     "name": "stdout",
     "output_type": "stream",
     "text": [
      "The brown dog is running.The black dog is in the black room.Running in the room is forbidden.\n"
     ]
    },
    {
     "name": "stderr",
     "output_type": "stream",
     "text": [
      "[nltk_data] Downloading package punkt to\n",
      "[nltk_data]     C:\\Users\\88\\AppData\\Roaming\\nltk_data...\n",
      "[nltk_data]   Package punkt is already up-to-date!\n"
     ]
    },
    {
     "data": {
      "text/plain": [
       "True"
      ]
     },
     "execution_count": 24,
     "metadata": {},
     "output_type": "execute_result"
    }
   ],
   "source": [
    "#词袋模型\n",
    "import nltk.tokenize as tk\n",
    "#文本特征提取\n",
    "import sklearn.feature_extraction.text as ft\n",
    "import numpy as np\n",
    "\n",
    "doc='The brown dog is running.'\\\n",
    "    'The black dog is in the black room.'\\\n",
    "    'Running in the room is forbidden.'\n",
    "print(doc)\n",
    "import nltk  #nl工具包 toolkits\n",
    "nltk.download('punkt')"
   ]
  },
  {
   "cell_type": "code",
   "execution_count": 25,
   "metadata": {},
   "outputs": [
    {
     "name": "stdout",
     "output_type": "stream",
     "text": [
      "['The brown dog is running.The black dog is in the black room.Running in the room is forbidden.']\n"
     ]
    }
   ],
   "source": [
    "sents = tk.sent_tokenize(doc)\n",
    "print(sents)"
   ]
  },
  {
   "cell_type": "code",
   "execution_count": 26,
   "metadata": {},
   "outputs": [
    {
     "name": "stdout",
     "output_type": "stream",
     "text": [
      "[[2 1 2 1 2 3 2 2 4]]\n",
      "['black', 'brown', 'dog', 'forbidden', 'in', 'is', 'room', 'running', 'the']\n"
     ]
    }
   ],
   "source": [
    "#构建词袋模型\n",
    "cv=ft.CountVectorizer()\n",
    "bow=cv.fit_transform(sents)\n",
    "print(bow.toarray()) #稀疏矩阵   将List转为数组的一个非常方便的方法toArray\n",
    "print(cv.get_feature_names())"
   ]
  },
  {
   "cell_type": "code",
   "execution_count": 27,
   "metadata": {},
   "outputs": [
    {
     "name": "stdout",
     "output_type": "stream",
     "text": [
      "[[0.29 0.15 0.29 0.15 0.29 0.44 0.29 0.29 0.58]]\n"
     ]
    }
   ],
   "source": [
    "#输出tfid矩阵\n",
    "tt=ft.TfidfTransformer()\n",
    "tfidf=tt.fit_transform(bow)\n",
    "print(np.round(tfidf.toarray(),2))"
   ]
  },
  {
   "cell_type": "code",
   "execution_count": null,
   "metadata": {},
   "outputs": [],
   "source": []
  }
 ],
 "metadata": {
  "kernelspec": {
   "display_name": "Python 3",
   "language": "python",
   "name": "python3"
  },
  "language_info": {
   "codemirror_mode": {
    "name": "ipython",
    "version": 3
   },
   "file_extension": ".py",
   "mimetype": "text/x-python",
   "name": "python",
   "nbconvert_exporter": "python",
   "pygments_lexer": "ipython3",
   "version": "3.7.6"
  }
 },
 "nbformat": 4,
 "nbformat_minor": 4
}
