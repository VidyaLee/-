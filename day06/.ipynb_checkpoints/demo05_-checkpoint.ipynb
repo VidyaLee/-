{
 "cells": [
  {
   "cell_type": "code",
   "execution_count": 5,
   "metadata": {},
   "outputs": [
    {
     "name": "stdout",
     "output_type": "stream",
     "text": [
      "   table     tabl     tabl     tabl\n",
      "probably  probabl     prob  probabl\n",
      "  wolves     wolv     wolv     wolv\n",
      " playing     play     play     play\n",
      "      is       is       is       is\n",
      "     dog      dog      dog      dog\n",
      "     the      the      the      the\n",
      " beaches    beach    beach    beach\n",
      "grounded   ground   ground   ground\n",
      "  dreamt   dreamt   dreamt   dreamt\n",
      "envision    envis    envid    envis\n"
     ]
    }
   ],
   "source": [
    "import nltk.stem.porter as pt\n",
    "import nltk.stem.lancaster as lc\n",
    "import nltk.stem.snowball as sb\n",
    "\n",
    "words =['table','probably','wolves','playing','is','dog','the','beaches','grounded','dreamt','envision']\n",
    "pt_stemmer=pt.PorterStemmer()\n",
    "lc_stemmer=lc.LancasterStemmer()\n",
    "sb_stemmer=sb.SnowballStemmer('english')\n",
    "for word in words:\n",
    "    pt_stem=pt_stemmer.stem(word)\n",
    "    lc_stem=lc_stemmer.stem(word)\n",
    "    sb_stem=sb_stemmer.stem(word)\n",
    "    print('%8s %8s %8s %8s'%(word,pt_stem,lc_stem,sb_stem))\n",
    "    "
   ]
  },
  {
   "cell_type": "code",
   "execution_count": null,
   "metadata": {},
   "outputs": [],
   "source": []
  }
 ],
 "metadata": {
  "kernelspec": {
   "display_name": "Python 3",
   "language": "python",
   "name": "python3"
  },
  "language_info": {
   "codemirror_mode": {
    "name": "ipython",
    "version": 3
   },
   "file_extension": ".py",
   "mimetype": "text/x-python",
   "name": "python",
   "nbconvert_exporter": "python",
   "pygments_lexer": "ipython3",
   "version": "3.7.6"
  }
 },
 "nbformat": 4,
 "nbformat_minor": 4
}
