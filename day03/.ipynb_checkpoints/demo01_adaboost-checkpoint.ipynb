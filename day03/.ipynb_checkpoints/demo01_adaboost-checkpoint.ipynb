{
 "cells": [
  {
   "cell_type": "code",
   "execution_count": 3,
   "metadata": {},
   "outputs": [
    {
     "name": "stdout",
     "output_type": "stream",
     "text": [
      "0.8202560889408635\n",
      "2.76709759407969\n",
      "0.9068598725149652\n",
      "2.1998034482458566\n"
     ]
    }
   ],
   "source": [
    "#正向激励  通过调整权重来控制样本\n",
    "import numpy as np\n",
    "import sklearn.datasets as sd\n",
    "import sklearn.utils as su\n",
    "import sklearn.tree as st\n",
    "import sklearn.metrics as sm\n",
    "\n",
    "boston =sd.load_boston()\n",
    "\n",
    "#打乱原始数据集，拆分训练集与测试集\n",
    "#random_state  随机种子，用于复现结果       shuffle 打乱，洗牌\n",
    "x,y=su.shuffle(boston.data,boston.target,random_state=7)\n",
    "train_size=int(len(x)*0.8)\n",
    "\n",
    "#    \\   转义、续行符（折行）、反斜杠\n",
    "train_x,test_x,train_y,test_y=x[:train_size],x[train_size:],y[:train_size],y[train_size:]\n",
    "\n",
    "#调用回归树模型 \n",
    "model=st.DecisionTreeRegressor(max_depth=4)\n",
    "model.fit(train_x,train_y)\n",
    "pred_test_y=model.predict(test_x)\n",
    "#评估结果\n",
    "r=sm.r2_score(test_y,pred_test_y)\n",
    "print(r)\n",
    "#平均绝对值误差\n",
    "print(sm.mean_absolute_error(test_y,pred_test_y))\n",
    "\n",
    "#构建adaboost模型\n",
    "import sklearn.ensemble as se\n",
    "model=se.AdaBoostRegressor(model,n_estimators=400,random_state=7)   #树的数量\n",
    "model.fit(train_x,train_y)\n",
    "pred_test_y=model.predict(test_x)\n",
    "r=sm.r2_score(test_y,pred_test_y)\n",
    "print(r)\n",
    "print(sm.mean_absolute_error(test_y,pred_test_y)) #平均绝对值误差\n"
   ]
  },
  {
   "cell_type": "code",
   "execution_count": null,
   "metadata": {},
   "outputs": [],
   "source": []
  }
 ],
 "metadata": {
  "kernelspec": {
   "display_name": "Python 3",
   "language": "python",
   "name": "python3"
  },
  "language_info": {
   "codemirror_mode": {
    "name": "ipython",
    "version": 3
   },
   "file_extension": ".py",
   "mimetype": "text/x-python",
   "name": "python",
   "nbconvert_exporter": "python",
   "pygments_lexer": "ipython3",
   "version": "3.7.6"
  }
 },
 "nbformat": 4,
 "nbformat_minor": 4
}
