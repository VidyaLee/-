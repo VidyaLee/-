{
 "cells": [
  {
   "cell_type": "code",
   "execution_count": 3,
   "metadata": {},
   "outputs": [
    {
     "name": "stdout",
     "output_type": "stream",
     "text": [
      "[1 0]\n"
     ]
    },
    {
     "data": {
      "image/png": "[encoded data removed]",
      "text/plain": [
       "<Figure size 432x288 with 1 Axes>"
      ]
     },
     "metadata": {},
     "output_type": "display_data"
    }
   ],
   "source": [
    "#LogistRegression逻辑回归/逻辑分类\n",
    "import numpy as np\n",
    "import matplotlib.pyplot as mp\n",
    "\n",
    "x=np.array([[3,1],[2,5],[1,8],[6,4],[5,2],[3,5],[4,7],[4,-1]])\n",
    "y=np.array([0,1,1,0,0,1,1,0])\n",
    "#通过8个样本点，训练分类器\n",
    "import sklearn.linear_model as lm\n",
    "#逻辑回归（Logistic Regression）用于解决二分类（0 or 1）估计可能性的方法,并非数学中的概率值，\n",
    "#不可以直接当做概率值来用。往往用于和其他特征值加权求和，而非直接相乘。\n",
    "model=lm.LogisticRegression(solver='liblinear',C=1)\n",
    "model.fit(x,y)\n",
    "#测试模型，预测新样本\n",
    "r=model.predict([[3,9],[6,1]])\n",
    "print(r)\n",
    "\n",
    "#绘制边际线\n",
    "l,r=x[:,0].min(),x[:,0].max()\n",
    "b,t=x[:,1].min(),x[:,1].max()\n",
    "#把可视区间划分为500*500\n",
    "n=500\n",
    "grid_x,grid_y=np.meshgrid(np.linspace(l,r,n),np.linspace(b,t,n))\n",
    "#模拟使用模型，得到点阵中每个坐标的类别    piecewise：分段/分片\n",
    "mesh_x=np.column_stack(   #(250000,2) \n",
    "    (grid_x.ravel(),grid_y.ravel()))   #ravel将多维数组转换为一维数组的功能\n",
    "mesh_z=model.predict(mesh_x)\n",
    "grid_z=mesh_z.reshape(grid_x.shape)\n",
    "grid_z=np.piecewise(grid_x,[grid_x>grid_y,grid_x<grid_y],[0,1])#＞Y的设为0，＜y的设为1\n",
    "\n",
    "#画图\n",
    "mp.figure('LR Classfication',facecolor='lightgray')\n",
    "mp.title('LR Classfication',fontsize=16)\n",
    "#zorder=3相当于在z轴的层次关系，联想一下修图的图层\n",
    "mp.scatter(x[:,0],x[:,1],c=y , cmap='jet',label='Sample Point',s=70,zorder=3)\n",
    "#调用mp.pcolormesh()绘制边界线\n",
    "#根据参数把可视区间拆分成坐标网格，由于每个网格都有相应类别，可以使用cmap为每个网格填充颜色\n",
    "mp.pcolormesh(grid_x,grid_y,grid_z,cmap='gray')\n",
    "\n",
    "mp.legend()\n",
    "mp.show()"
   ]
  },
  {
   "cell_type": "code",
   "execution_count": null,
   "metadata": {},
   "outputs": [],
   "source": []
  }
 ],
 "metadata": {
  "kernelspec": {
   "display_name": "Python 3",
   "language": "python",
   "name": "python3"
  },
  "language_info": {
   "codemirror_mode": {
    "name": "ipython",
    "version": 3
   },
   "file_extension": ".py",
   "mimetype": "text/x-python",
   "name": "python",
   "nbconvert_exporter": "python",
   "pygments_lexer": "ipython3",
   "version": "3.7.6"
  }
 },
 "nbformat": 4,
 "nbformat_minor": 4
}
