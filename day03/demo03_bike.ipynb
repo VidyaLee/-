{
 "cells": [
  {
   "cell_type": "code",
   "execution_count": 8,
   "metadata": {},
   "outputs": [
    {
     "name": "stdout",
     "output_type": "stream",
     "text": [
      "0.8927965580631372\n",
      "428.09872234606877\n"
     ]
    }
   ],
   "source": [
    "#自助聚合\n",
    "import numpy as np\n",
    "import sklearn.utils as su\n",
    "import sklearn.ensemble as se\n",
    "import matplotlib.pyplot\n",
    "import sklearn.metrics as sm\n",
    "\n",
    "data=[]\n",
    "with open('../ml_data/bike_day.csv','r') as f:\n",
    "    for line in f.readlines():\n",
    "        data.append(line[:-1].split(','))\n",
    "#整理输入与输出集\n",
    "day_header =np.array(data[0][2:13])\n",
    "x=np.array(data[1:])[:,2:13].astype('f8')\n",
    "y=np.array(data[1:])[:,-1].astype('f8')\n",
    "#打乱数据集，拆分训练集与测试集\n",
    "x,y=su.shuffle(x,y,random_state=7)\n",
    "train_size=int(len(x)*0.9)\n",
    "train_x,test_x,train_y,test_y=\\\n",
    "    x[:train_size],x[train_size:],\\\n",
    "    y[:train_size],y[train_size:]\n",
    "#训练随机森林模型\n",
    "model=se.RandomForestRegressor(max_depth=10,n_estimators=1000,min_samples_split=2)\n",
    "model.fit(train_x,train_y)\n",
    "#输出预测结果r2得分\n",
    "pred_test_y=model.predict(test_x)\n",
    "print(sm.r2_score(test_y,pred_test_y))  #回归模型评价指标\n",
    "day_fi=model.feature_importances_\n",
    "print(sm.mean_absolute_error(test_y,pred_test_y))  #平均绝对值误差"
   ]
  },
  {
   "cell_type": "code",
   "execution_count": 12,
   "metadata": {},
   "outputs": [
    {
     "name": "stdout",
     "output_type": "stream",
     "text": [
      "0.9184025376751039\n"
     ]
    },
    {
     "data": {
      "image/png": "[encoded data removed]",
      "text/plain": [
       "<Figure size 432x288 with 1 Axes>"
      ]
     },
     "metadata": {},
     "output_type": "display_data"
    }
   ],
   "source": [
    "#自助聚合\n",
    "import numpy as np\n",
    "import sklearn.utils as su\n",
    "import sklearn.ensemble as se\n",
    "import matplotlib.pyplot\n",
    "import sklearn.metrics as sm\n",
    "import matplotlib.pyplot as mp\n",
    "\n",
    "data=[]\n",
    "with open('../ml_data/bike_hour.csv','r') as f:\n",
    "    for line in f.readlines():\n",
    "        data.append(line[:-1].split(','))\n",
    "#整理输入与输出集\n",
    "hour_header =np.array(data[0][2:14])\n",
    "x=np.array(data[1:])[:,2:14].astype('f8')\n",
    "y=np.array(data[1:])[:,-1].astype('f8')\n",
    "#打乱数据集，拆分训练集与测试集\n",
    "x,y=su.shuffle(x,y,random_state=7)\n",
    "train_size=int(len(x)*0.9)\n",
    "train_x,test_x,train_y,test_y=\\\n",
    "    x[:train_size],x[train_size:],\\\n",
    "    y[:train_size],y[train_size:]\n",
    "#训练随机森林模型\n",
    "model=se.RandomForestRegressor(max_depth=10,n_estimators=1000,min_samples_split=2)\n",
    "model.fit(train_x,train_y)\n",
    "#输出预测结果r2得分\n",
    "pred_test_y=model.predict(test_x)\n",
    "print(sm.r2_score(test_y,pred_test_y))  #回归模型评价指标\n",
    "hour_fi=model.feature_importances_\n",
    "\n",
    "\n",
    "#画图，绘制重要特征\n",
    "mp.figure('Feature Importance',facecolor='lightgray')\n",
    "mp.subplot(211)#子图    2行1列，第一副\n",
    "mp.title('Hour Feature Importances',fontsize=16) \n",
    "mp.ylabel('Feature Importance',fontsize=14)\n",
    "mp.grid(linestyle=\":\",axis='y') \n",
    "x=np.arange(hour_fi.size)\n",
    "sorted_indices=hour_fi.argsort()[::-1]    #argsort函数返回的是数组值从小到大的索引值    [::-1]  倒序\n",
    "hour_fi=hour_fi[sorted_indices]\n",
    "mp.bar(x,hour_fi,0.8,color='dodgerblue',label='Hour Importances')\n",
    "mp.xticks(x,hour_header[sorted_indices])\n",
    "\n",
    "mp.legend()\n",
    "mp.tight_layout()\n",
    "mp.show()"
   ]
  },
  {
   "cell_type": "code",
   "execution_count": null,
   "metadata": {},
   "outputs": [],
   "source": []
  }
 ],
 "metadata": {
  "kernelspec": {
   "display_name": "Python 3",
   "language": "python",
   "name": "python3"
  },
  "language_info": {
   "codemirror_mode": {
    "name": "ipython",
    "version": 3
   },
   "file_extension": ".py",
   "mimetype": "text/x-python",
   "name": "python",
   "nbconvert_exporter": "python",
   "pygments_lexer": "ipython3",
   "version": "3.7.6"
  }
 },
 "nbformat": 4,
 "nbformat_minor": 4
}
