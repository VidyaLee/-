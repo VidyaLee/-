{
 "cells": [
  {
   "cell_type": "code",
   "execution_count": 11,
   "metadata": {
    "scrolled": true
   },
   "outputs": [
    {
     "name": "stdout",
     "output_type": "stream",
     "text": [
      "0.8202560889408634\n",
      "DT FI: [0.02345866 0.         0.         0.         0.06146979 0.60552681\n",
      " 0.         0.10473383 0.         0.         0.00460542 0.\n",
      " 0.20020548]\n",
      "2.7670975940796914\n",
      "0.9068598725149652\n",
      "AdaBoost FI: [0.03339581 0.00287794 0.00810414 0.00099482 0.0463733  0.27796803\n",
      " 0.00884059 0.11267449 0.02459319 0.05455562 0.05567394 0.0194009\n",
      " 0.35454723]\n"
     ]
    }
   ],
   "source": [
    "#特征重要性 feature_importances_\n",
    "import numpy as np\n",
    "import sklearn.datasets as sd\n",
    "import sklearn.utils as su\n",
    "import sklearn.tree as st\n",
    "import sklearn.metrics as sm\n",
    "import matplotlib.pyplot as mp\n",
    "\n",
    "boston =sd.load_boston()\n",
    "\n",
    "#打乱原始数据集，拆分训练集与测试集\n",
    "#random_state  随机种子，用于复现结果       shuffle 打乱，洗牌\n",
    "x,y=su.shuffle(boston.data,boston.target,random_state=7)\n",
    "train_size=int(len(x)*0.8)\n",
    "#    \\  转义、续行符（折行）、反斜杠\n",
    "train_x,test_x,train_y,test_y=x[:train_size],x[train_size:],y[:train_size],y[train_size:]\n",
    "\n",
    "#调用回归树模型 \n",
    "model=st.DecisionTreeRegressor(max_depth=4)\n",
    "model.fit(train_x,train_y)\n",
    "pred_test_y=model.predict(test_x)\n",
    "#评估结果\n",
    "r=sm.r2_score(test_y,pred_test_y)\n",
    "print(r)\n",
    "dt_fi=model.feature_importances_  #data feature_importances_值越高，特征重要性越高\n",
    "print('DT FI:',dt_fi)\n",
    "\n",
    "#平均绝对值误差\n",
    "print(sm.mean_absolute_error(test_y,pred_test_y))\n",
    "\n",
    "#构建adaboost模型\n",
    "import sklearn.ensemble as se\n",
    "model=se.AdaBoostRegressor(model,n_estimators=400,random_state=7)   #树的数量\n",
    "model.fit(train_x,train_y)\n",
    "pred_test_y=model.predict(test_x)\n",
    "r=sm.r2_score(test_y,pred_test_y)\n",
    "print(r)\n",
    "ada_fi=model.feature_importances_  #data feature_importances_值越高，特征重要性越高\n",
    "print('AdaBoost FI:',ada_fi)"
   ]
  },
  {
   "cell_type": "code",
   "execution_count": 20,
   "metadata": {},
   "outputs": [
    {
     "data": {
      "image/png": "[encoded data removed]",
      "text/plain": [
       "<Figure size 432x288 with 1 Axes>"
      ]
     },
     "metadata": {},
     "output_type": "display_data"
    }
   ],
   "source": [
    "#画图，绘制重要特征\n",
    "mp.figure('Feature Importance',facecolor='lightgray')\n",
    "mp.subplot(211)#子图    2行1列，第一副\n",
    "mp.title('DT Feature Importance',fontsize=16) \n",
    "mp.ylabel('Feature Importance',fontsize=14)\n",
    "mp.grid(linestyle=\":\",axis='y') \n",
    "x=np.arange(dt_fi.size)\n",
    "names=sorted_indices=dt_fi.argsort()[::-1]    #argsort函数返回的是数组值从小到大的索引值    [::-1]  倒序\n",
    "dt_fi=dt_fi[sorted_indices]\n",
    "mp.bar(x,dt_fi,0.8,color='dodgerblue',label='DT Importances')\n",
    "mp.xticks(x,names[sorted_indices])\n",
    "mp.legend()\n",
    "mp.tight_layout()\n",
    "mp.show()"
   ]
  },
  {
   "cell_type": "code",
   "execution_count": null,
   "metadata": {},
   "outputs": [],
   "source": []
  }
 ],
 "metadata": {
  "kernelspec": {
   "display_name": "Python 3",
   "language": "python",
   "name": "python3"
  },
  "language_info": {
   "codemirror_mode": {
    "name": "ipython",
    "version": 3
   },
   "file_extension": ".py",
   "mimetype": "text/x-python",
   "name": "python",
   "nbconvert_exporter": "python",
   "pygments_lexer": "ipython3",
   "version": "3.7.6"
  }
 },
 "nbformat": 4,
 "nbformat_minor": 4
}
