{
 "cells": [
  {
   "cell_type": "code",
   "execution_count": 4,
   "metadata": {},
   "outputs": [
    {
     "name": "stdout",
     "output_type": "stream",
     "text": [
      "(506, 13)\n",
      "[6.320e-03 1.800e+01 2.310e+00 0.000e+00 5.380e-01 6.575e+00 6.520e+01\n",
      " 4.090e+00 1.000e+00 2.960e+02 1.530e+01 3.969e+02 4.980e+00]\n",
      "(506,)\n",
      "24.0\n",
      "['CRIM' 'ZN' 'INDUS' 'CHAS' 'NOX' 'RM' 'AGE' 'DIS' 'RAD' 'TAX' 'PTRATIO'\n",
      " 'B' 'LSTAT']\n",
      "0.8202560889408634\n",
      "2.7670975940796905\n",
      "0.9068598725149652\n",
      "2.1998034482458566\n"
     ]
    }
   ],
   "source": [
    "#决策树\n",
    "import numpy as np\n",
    "import sklearn.datasets as sd\n",
    "import sklearn.utils as su\n",
    "\n",
    "boston =sd.load_boston()\n",
    "print(boston.data.shape)#输入数据\n",
    "print(boston.data[0])#输出第一行\n",
    "print(boston.target.shape)#输出数据\n",
    "print(boston.target[0])\n",
    "print(boston.feature_names)#输入数据的特征名\n",
    "\n",
    "#打乱原始数据集，拆分训练集与测试集\n",
    "#random_state  随机种子，用于复现结果       shuffle 打乱，洗牌\n",
    "x,y=su.shuffle(boston.data,boston.target,random_state=7)\n",
    "train_size=int(len(x)*0.8)\n",
    "\n",
    "# \\ 续行符                      #区分训练集和测试集\n",
    "train_x,test_x,train_y,test_y=x[:train_size],x[train_size:], y[:train_size],y[train_size:]\n",
    "\n",
    "\n",
    "#调用回归树模型 \n",
    "import sklearn.tree as st\n",
    "import sklearn.metrics as sm\n",
    "\n",
    "model=st.DecisionTreeRegressor(max_depth=4)\n",
    "model.fit(train_x,train_y)\n",
    "pred_test_y=model.predict(test_x)\n",
    "#评估结果\n",
    "r=sm.r2_score(test_y,pred_test_y)\n",
    "print(r)\n",
    "#平均绝对值误差\n",
    "print(sm.mean_absolute_error(test_y,pred_test_y))\n",
    "\n",
    "#构建adaboost模型\n",
    "import sklearn.ensemble as se\n",
    "model=se.AdaBoostRegressor(model,n_estimators=400,random_state=7)   #树的数量\n",
    "model.fit(train_x,train_y)\n",
    "pred_test_y=model.predict(test_x)\n",
    "r=sm.r2_score(test_y,pred_test_y)\n",
    "print(r)\n",
    "print(sm.mean_absolute_error(test_y,pred_test_y)) #平均绝对值误差\n"
   ]
  },
  {
   "cell_type": "code",
   "execution_count": null,
   "metadata": {},
   "outputs": [],
   "source": []
  }
 ],
 "metadata": {
  "kernelspec": {
   "display_name": "Python 3",
   "language": "python",
   "name": "python3"
  },
  "language_info": {
   "codemirror_mode": {
    "name": "ipython",
    "version": 3
   },
   "file_extension": ".py",
   "mimetype": "text/x-python",
   "name": "python",
   "nbconvert_exporter": "python",
   "pygments_lexer": "ipython3",
   "version": "3.7.6"
  }
 },
 "nbformat": 4,
 "nbformat_minor": 4
}
