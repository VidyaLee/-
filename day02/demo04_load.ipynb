{
 "cells": [
  {
   "cell_type": "code",
   "execution_count": 5,
   "metadata": {},
   "outputs": [
    {
     "name": "stdout",
     "output_type": "stream",
     "text": [
      "load sucess!\n"
     ]
    }
   ],
   "source": [
    "#加载数据\n",
    "import numpy as np\n",
    "import matplotlib.pyplot as mp\n",
    "import sklearn.linear_model as lm\n",
    "import pickle\n",
    "\n",
    "x,y=np.loadtxt('../ml_data/single.txt',delimiter=',',unpack=True)\n",
    "#整理输入集（二维）与输出集（一维）\n",
    "x=x.reshape(-1,1)#n行1列\n",
    "#构建线性回归模型。训练模型\n",
    "model=lm.LinearRegression()\n",
    "#针对训练数据，得到预测结果，画图\n",
    "model.fit(x,y)\n",
    "\n",
    "#模型从文件中加载而来\n",
    "with open('linear.pkl','rb') as f:\n",
    "    model=pickle.load(f)\n",
    "pred_y=model.predict(x)\n",
    "print('load sucess!')"
   ]
  }
 ],
 "metadata": {
  "kernelspec": {
   "display_name": "Python 3",
   "language": "python",
   "name": "python3"
  },
  "language_info": {
   "codemirror_mode": {
    "name": "ipython",
    "version": 3
   },
   "file_extension": ".py",
   "mimetype": "text/x-python",
   "name": "python",
   "nbconvert_exporter": "python",
   "pygments_lexer": "ipython3",
   "version": "3.7.6"
  }
 },
 "nbformat": 4,
 "nbformat_minor": 4
}
