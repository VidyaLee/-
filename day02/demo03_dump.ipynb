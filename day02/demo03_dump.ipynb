{
 "cells": [
  {
   "cell_type": "code",
   "execution_count": 1,
   "metadata": {},
   "outputs": [
    {
     "name": "stdout",
     "output_type": "stream",
     "text": [
      "dump sucess!\n"
     ]
    }
   ],
   "source": [
    "#dump加载/转存数据\n",
    "import numpy as np\n",
    "import matplotlib.pyplot as mp\n",
    "import sklearn.linear_model as lm\n",
    "import pickle\n",
    "x,y=np.loadtxt('../ml_data/single.txt',delimiter=',',unpack=True)\n",
    "#整理输入集（二维）与输出集（一维）\n",
    "x=x.reshape(-1,1)#n行1列\n",
    "#构建线性回归模型。训练模型\n",
    "model=lm.LinearRegression()\n",
    "#针对训练数据，得到预测结果，画图\n",
    "model.fit(x,y)\n",
    "\n",
    "#存储模型\n",
    "with open('linear.pkl','wb') as f:\n",
    "    pickle.dump(model,f)\n",
    "    print('dump sucess!')"
   ]
  },
  {
   "cell_type": "code",
   "execution_count": null,
   "metadata": {},
   "outputs": [],
   "source": [
    "#name 'pickle' is not defined         是一个nameerror，说var为定义，所以执行不成功。\n",
    "#这是因为将var定义在了函数里面，即return后一行的代码缩进了，只需要去除缩进就可以了。"
   ]
  }
 ],
 "metadata": {
  "kernelspec": {
   "display_name": "Python 3",
   "language": "python",
   "name": "python3"
  },
  "language_info": {
   "codemirror_mode": {
    "name": "ipython",
    "version": 3
   },
   "file_extension": ".py",
   "mimetype": "text/x-python",
   "name": "python",
   "nbconvert_exporter": "python",
   "pygments_lexer": "ipython3",
   "version": "3.7.6"
  }
 },
 "nbformat": 4,
 "nbformat_minor": 4
}
