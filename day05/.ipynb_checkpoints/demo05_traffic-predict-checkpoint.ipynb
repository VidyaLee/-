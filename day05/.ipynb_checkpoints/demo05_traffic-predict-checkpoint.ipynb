{
 "cells": [
  {
   "cell_type": "code",
   "execution_count": 13,
   "metadata": {},
   "outputs": [],
   "source": [
    "#车流量预测\n",
    "import numpy as np\n",
    "import sklearn.preprocessing as sp\n",
    "import sklearn.model_selection as ms\n",
    "import sklearn.svm as svm\n",
    "\n",
    "#数字编码器，实现数字与字符串之间互转\n",
    "class DigitEncoder():\n",
    "    def fit_transform(self,y):\n",
    "        return y.astype(int)\n",
    "    def transform(self,y):\n",
    "        return y.astype(int)\n",
    "    def inverse_transform(self,y):\n",
    "        return y.astype(str)\n",
    "#整理数据，整理数据集\n",
    "data=[]\n",
    "with open('../ml_data/traffic.txt','r') as f:\n",
    "    for line in f.readlines():\n",
    "        data.append(line[:-1].split(','))\n",
    "data=np.array(data)"
   ]
  },
  {
   "cell_type": "code",
   "execution_count": 14,
   "metadata": {},
   "outputs": [
    {
     "name": "stdout",
     "output_type": "stream",
     "text": [
      "(17568, 4) (17568,)\n"
     ]
    }
   ],
   "source": [
    "#针对每一列做编码，整理输入与输出集\n",
    "x,y,encoders=[],[],[]  \n",
    "for col in range(data.shape[1]): \n",
    "    col_vals=data[:,col]\n",
    "    if col_vals[0].isdigit(): #判断是不是数字字符串   isdigit()方法检测字符串是否只由数字组成 \n",
    "        encoder=DigitEncoder()\n",
    "    else:\n",
    "        encoder=sp.LabelEncoder()\n",
    "      #对当前列进行编码\n",
    "    col_encoded=encoder.fit_transform(col_vals)\n",
    "    if col < data.shape[1] - 1:\n",
    "        x.append(col_encoded)\n",
    "    else:\n",
    "        y=col_encoded\n",
    "    encoders.append(encoder)\n",
    "x=np.array(x).T\n",
    "y=np.array(y)    \n",
    "print(x.shape,y.shape)"
   ]
  },
  {
   "cell_type": "code",
   "execution_count": 15,
   "metadata": {},
   "outputs": [
    {
     "name": "stdout",
     "output_type": "stream",
     "text": [
      "0.45395732543028555\n"
     ]
    }
   ],
   "source": [
    "train_x,test_x,train_y,test_y=\\\n",
    "    ms.train_test_split(x,y,test_size=0.5,random_state=7)\n",
    "#选择模型，训练模型          对照demo01_banlanced\n",
    "model=svm.SVR(kernel='rbf',C=10,epsilon=0.2)\n",
    "\n",
    "model.fit(train_x,train_y)\n",
    "#预测\n",
    "pred_test_y=model.predict(test_x)\n",
    "import sklearn.metrics as sm \n",
    "#r2_score线性评价指标  下方解析\n",
    "print(sm.r2_score(test_y,pred_test_y))"
   ]
  },
  {
   "cell_type": "markdown",
   "metadata": {},
   "source": [
    "R方值（R2_score）  统计学书里的r^2\n",
    "R2_score =  1，达到最大值。即分子为 0 ，意味着样本中预测值和真实值完全相等，没有任何误差\n",
    "R2_score =  0。此时分子等于分母，样本的每项预测值都等于均值。\n",
    "R2_score < 0 ：分子大于分母，训练模型产生的误差比使用均值产生的还要大，也就是训练模型反而不如直接去均值效果好。"
   ]
  },
  {
   "cell_type": "code",
   "execution_count": 8,
   "metadata": {},
   "outputs": [],
   "source": [
    "# train_x,test_x,train_y,test_y=\\\n",
    "#     ms.train_test_split(x,y,test_size=0.5,random_state=7)\n",
    "# #选择模型，训练模型          权重\n",
    "# #选一个模型，用朴素贝叶斯试试\n",
    "# import sklearn.naive_bayes as nb\n",
    "# model=nb.GaussianNB()\n",
    "# model.fit(train_x,train_y)\n",
    "# #预测\n",
    "# pred_test_y=model.predict(test_x)\n",
    "# import sklearn.metrics as sm \n",
    "# print(sm.classification_report (test_y,pred_test_y))"
   ]
  },
  {
   "cell_type": "code",
   "execution_count": 12,
   "metadata": {},
   "outputs": [
    {
     "name": "stdout",
     "output_type": "stream",
     "text": [
      "[[  5 169  13   0]]\n",
      "[6]\n"
     ]
    }
   ],
   "source": [
    "data=[['Tuesday','14:05','San Francisco','no']]\n",
    "x=[]\n",
    "data=np.array(data)\n",
    "for col in range(data.shape[1]):\n",
    "    col_vals=data[:,col]\n",
    "    encoder=encoders[col]\n",
    "    #对当前列进行编码\n",
    "    col_encoded=encoder.transform(col_vals)\n",
    "    x.append(col_encoded)\n",
    "x=np.array(x).T\n",
    "print(x)\n",
    "pred_y=model.predict(x)\n",
    "print(pred_y)"
   ]
  },
  {
   "cell_type": "code",
   "execution_count": null,
   "metadata": {},
   "outputs": [],
   "source": []
  }
 ],
 "metadata": {
  "kernelspec": {
   "display_name": "Python 3",
   "language": "python",
   "name": "python3"
  },
  "language_info": {
   "codemirror_mode": {
    "name": "ipython",
    "version": 3
   },
   "file_extension": ".py",
   "mimetype": "text/x-python",
   "name": "python",
   "nbconvert_exporter": "python",
   "pygments_lexer": "ipython3",
   "version": "3.7.6"
  }
 },
 "nbformat": 4,
 "nbformat_minor": 4
}
