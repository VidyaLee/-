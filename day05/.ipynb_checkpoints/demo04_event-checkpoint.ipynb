{
 "cells": [
  {
   "cell_type": "code",
   "execution_count": 28,
   "metadata": {},
   "outputs": [
    {
     "name": "stdout",
     "output_type": "stream",
     "text": [
      "(5040, 5)\n"
     ]
    }
   ],
   "source": [
    "#事件预测\n",
    "import numpy as np\n",
    "import sklearn.preprocessing as sp\n",
    "import sklearn.model_selection as ms\n",
    "import sklearn.svm as svm\n",
    "\n",
    "#数字编码器，实现数字与字符串之间互转\n",
    "class DigitEncoder():\n",
    "    def fit_transform(self,y):\n",
    "        return y.astype(int)\n",
    "    def transform(self,y):\n",
    "        return y.astype(int)\n",
    "    def inverse_transform(self,y):\n",
    "        return y.astype(str)\n",
    "#整理数据，整理数据集\n",
    "data=[]\n",
    "with open('../ml_data/event.txt','r') as f:\n",
    "    for line in f.readlines():\n",
    "        data.append(line[:-1].split(','))\n",
    "data=np.array(data)\n",
    "#删掉第一列\n",
    "data=np.delete(data,1,axis=1)\n",
    "print(data.shape)  "
   ]
  },
  {
   "cell_type": "code",
   "execution_count": 29,
   "metadata": {},
   "outputs": [
    {
     "name": "stdout",
     "output_type": "stream",
     "text": [
      "(5040, 4) (5040,)\n"
     ]
    }
   ],
   "source": [
    "#针对每一列做编码，整理输入与输出集\n",
    "x,y,encoders=[],[],[]  \n",
    "for col in range(data.shape[1]): \n",
    "    col_vals=data[:,col]\n",
    "    if col_vals[0].isdigit(): #判断是不是数字字符串   isdigit()方法检测字符串是否只由数字组成 \n",
    "        encoder=DigitEncoder()\n",
    "    else:\n",
    "        encoder=sp.LabelEncoder()\n",
    "      #对当前列进行编码\n",
    "    col_encoded=encoder.fit_transform(col_vals)\n",
    "    if col < data.shape[1] - 1:\n",
    "        x.append(col_encoded)\n",
    "    else:\n",
    "        y=col_encoded\n",
    "    encoders.append(encoder)\n",
    "x=np.array(x).T\n",
    "y=np.array(y)    \n",
    "print(x.shape,y.shape)"
   ]
  },
  {
   "cell_type": "code",
   "execution_count": 18,
   "metadata": {},
   "outputs": [
    {
     "name": "stdout",
     "output_type": "stream",
     "text": [
      "              precision    recall  f1-score   support\n",
      "\n",
      "           0       0.10      0.87      0.19        78\n",
      "           1       0.99      0.76      0.86      2442\n",
      "\n",
      "    accuracy                           0.77      2520\n",
      "   macro avg       0.55      0.82      0.53      2520\n",
      "weighted avg       0.97      0.77      0.84      2520\n",
      "\n"
     ]
    }
   ],
   "source": [
    "train_x,test_x,train_y,test_y=\\\n",
    "    ms.train_test_split(x,y,test_size=0.5,random_state=7)\n",
    "#选择模型，训练模型          对照demo01_banlanced\n",
    "model=svm.SVC(kernel='rbf',class_weight='balanced')\n",
    "\n",
    "model.fit(train_x,train_y)\n",
    "#预测\n",
    "pred_test_y=model.predict(test_x)\n",
    "import sklearn.metrics as sm \n",
    "print(sm.classification_report (test_y,pred_test_y))"
   ]
  },
  {
   "cell_type": "code",
   "execution_count": 19,
   "metadata": {},
   "outputs": [
    {
     "name": "stdout",
     "output_type": "stream",
     "text": [
      "              precision    recall  f1-score   support\n",
      "\n",
      "           0       0.18      0.38      0.25        78\n",
      "           1       0.98      0.95      0.96      2442\n",
      "\n",
      "    accuracy                           0.93      2520\n",
      "   macro avg       0.58      0.66      0.61      2520\n",
      "weighted avg       0.95      0.93      0.94      2520\n",
      "\n"
     ]
    }
   ],
   "source": [
    "train_x,test_x,train_y,test_y=\\\n",
    "    ms.train_test_split(x,y,test_size=0.5,random_state=7)\n",
    "#选择模型，训练模型          权重\n",
    "#选一个模型，用朴素贝叶斯试试\n",
    "import sklearn.naive_bayes as nb\n",
    "model=nb.GaussianNB()\n",
    "model.fit(train_x,train_y)\n",
    "#预测\n",
    "pred_test_y=model.predict(test_x)\n",
    "import sklearn.metrics as sm \n",
    "print(sm.classification_report (test_y,pred_test_y))"
   ]
  },
  {
   "cell_type": "code",
   "execution_count": 30,
   "metadata": {},
   "outputs": [
    {
     "name": "stdout",
     "output_type": "stream",
     "text": [
      "[[ 5 27 21 23]]\n",
      "[0] ['event']\n"
     ]
    }
   ],
   "source": [
    "data=[['Tuesday','13:30:00','21','23']]\n",
    "x=[]\n",
    "data=np.array(data)\n",
    "for col in range(data.shape[1]):\n",
    "    col_vals=data[:,col]\n",
    "    encoder=encoders[col]\n",
    "    #对当前列进行编码\n",
    "    col_encoded=encoder.transform(col_vals)\n",
    "    x.append(col_encoded)\n",
    "x=np.array(x).T\n",
    "print(x)\n",
    "pred_y=model.predict(x)\n",
    "print(pred_y,encoders[-1].inverse_transform(pred_y))"
   ]
  },
  {
   "cell_type": "code",
   "execution_count": null,
   "metadata": {},
   "outputs": [],
   "source": []
  }
 ],
 "metadata": {
  "kernelspec": {
   "display_name": "Python 3",
   "language": "python",
   "name": "python3"
  },
  "language_info": {
   "codemirror_mode": {
    "name": "ipython",
    "version": 3
   },
   "file_extension": ".py",
   "mimetype": "text/x-python",
   "name": "python",
   "nbconvert_exporter": "python",
   "pygments_lexer": "ipython3",
   "version": "3.7.6"
  }
 },
 "nbformat": 4,
 "nbformat_minor": 4
}
